{
  "nbformat": 4,
  "nbformat_minor": 0,
  "metadata": {
    "colab": {
      "provenance": []
    },
    "kernelspec": {
      "name": "python3",
      "display_name": "Python 3"
    },
    "language_info": {
      "name": "python"
    }
  },
  "cells": [
    {
      "cell_type": "code",
      "execution_count": 1,
      "metadata": {
        "colab": {
          "base_uri": "https://localhost:8080/"
        },
        "id": "WLaNDdeozlIC",
        "outputId": "39cb2ca9-dcd5-4da2-fdba-f3daf2c259b9"
      },
      "outputs": [
        {
          "output_type": "stream",
          "name": "stdout",
          "text": [
            "Mounted at /content/drive\n"
          ]
        }
      ],
      "source": [
        "from google.colab import drive\n",
        "drive.mount('/content/drive')"
      ]
    },
    {
      "cell_type": "code",
      "source": [
        "import pandas as pd\n",
        "import numpy as np\n",
        "from sklearn.model_selection import train_test_split\n",
        "from sklearn.preprocessing import LabelEncoder, StandardScaler\n",
        "from sklearn.neighbors import LocalOutlierFactor\n",
        "from sklearn.ensemble import IsolationForest\n",
        "from sklearn.svm import SVC\n",
        "from xgboost import XGBClassifier\n",
        "from sklearn.metrics import classification_report, accuracy_score"
      ],
      "metadata": {
        "id": "7XtF4V25-ARI"
      },
      "execution_count": 2,
      "outputs": []
    },
    {
      "cell_type": "code",
      "source": [
        "data = pd.read_csv('/content/drive/MyDrive/Dataset/IDS 2018 Intrusion CSVs (CSE-CIC-IDS2018)/Expremente-Dataset/Dataset to Expreminte1.csv')"
      ],
      "metadata": {
        "id": "vAeAiCA2-CoF"
      },
      "execution_count": 3,
      "outputs": []
    },
    {
      "cell_type": "code",
      "source": [
        "# بررسی و جایگزینی مقادیر بی‌نهایت با میانگین هر ستون\n",
        "data.replace([np.inf, -np.inf], np.nan, inplace=True)\n",
        "data = data.dropna()\n",
        "\n",
        "# برچسب گذاری Label به عددی\n",
        "le = LabelEncoder()\n",
        "data['Label'] = le.fit_transform(data['Label'])\n",
        "\n",
        "# تقسیم ویژگی‌ها و برچسب‌ها\n",
        "X = data.drop(['Label'], axis=1)\n",
        "y = data['Label']\n",
        "\n",
        "# نرمال سازی داده‌ها\n",
        "scaler = StandardScaler()\n",
        "X = scaler.fit_transform(X)"
      ],
      "metadata": {
        "colab": {
          "base_uri": "https://localhost:8080/"
        },
        "id": "2uH72YKi-Ji2",
        "outputId": "8b812165-fced-499d-b5c8-8ed73d493e9b"
      },
      "execution_count": 7,
      "outputs": [
        {
          "output_type": "stream",
          "name": "stderr",
          "text": [
            "<ipython-input-7-20db8783a247>:7: SettingWithCopyWarning: \n",
            "A value is trying to be set on a copy of a slice from a DataFrame.\n",
            "Try using .loc[row_indexer,col_indexer] = value instead\n",
            "\n",
            "See the caveats in the documentation: https://pandas.pydata.org/pandas-docs/stable/user_guide/indexing.html#returning-a-view-versus-a-copy\n",
            "  data['Label'] = le.fit_transform(data['Label'])\n"
          ]
        }
      ]
    },
    {
      "cell_type": "code",
      "source": [
        "# تشخیص داده‌های پرت با استفاده از Local Outlier Factor\n",
        "lof = LocalOutlierFactor(n_neighbors=20, contamination=0.1)\n",
        "outliers = lof.fit_predict(X)\n",
        "X, y = X[outliers != -1], y[outliers != -1]  # حذف داده‌های پرت"
      ],
      "metadata": {
        "id": "s09XYxQB_bmp"
      },
      "execution_count": 8,
      "outputs": []
    },
    {
      "cell_type": "code",
      "source": [
        "from sklearn.preprocessing import LabelEncoder, OneHotEncoder, StandardScaler\n",
        "from sklearn.model_selection import train_test_split\n",
        "from sklearn.neighbors import LocalOutlierFactor\n",
        "\n",
        "# پاک‌سازی داده‌ها: حذف مقادیر Null و تنظیم ایندکس‌ها\n",
        "data_clean = data.dropna().reset_index(drop=True)\n",
        "\n",
        "# برچسب‌گذاری برچسب‌های کلاس با استفاده از LabelEncoder\n",
        "labelencoder = LabelEncoder()\n",
        "data_clean['Label'] = labelencoder.fit_transform(data_clean['Label'])\n",
        "\n",
        "# حذف مقادیر inf\n",
        "data_clean = data_clean.replace([np.inf, -np.inf], np.nan).dropna().reset_index(drop=True)\n",
        "\n",
        "# تبدیل DataFrame به numpy array و جدا کردن ویژگی‌ها و برچسب‌ها\n",
        "X = data_clean.iloc[:, 0:78].values.astype(\"float32\")\n",
        "Y = data_clean.iloc[:, 79:].values\n",
        "\n",
        "# برچسب‌ها را به One-Hot تبدیل می‌کنیم\n",
        "enc = OneHotEncoder()\n",
        "Y = enc.fit_transform(Y).toarray()\n",
        "\n",
        "# نرمال‌سازی داده‌ها\n",
        "scaler = StandardScaler()\n",
        "X_scaled = scaler.fit_transform(X)\n",
        "\n",
        "# تشخیص داده‌های پرت با استفاده از Local Outlier Factor (LOF)\n",
        "lof = LocalOutlierFactor(contamination=0.05)\n",
        "outliers = lof.fit_predict(X_scaled) == 1  # داده‌های بدون پرت\n",
        "\n",
        "# حذف داده‌های پرت\n",
        "X_cleaned = X_scaled[outliers]\n",
        "Y_cleaned = Y[outliers]\n",
        "\n",
        "# تقسیم داده‌ها به مجموعه‌های آموزش و تست\n",
        "X_train, X_test, Y_train, Y_test = train_test_split(\n",
        "    X_cleaned, Y_cleaned, test_size=0.2, random_state=2, shuffle=True\n",
        ")\n",
        "\n",
        "# ویژگی‌های ورودی و تعداد کلاس‌ها\n",
        "_features = X.shape[1]\n",
        "n_classes = Y.shape[1]\n",
        "\n",
        "# مشاهده خلاصه‌ای از داده‌ها\n",
        "print(f\"Number of training samples: {X_train.shape[0]}\")\n",
        "print(f\"Number of testing samples: {X_test.shape[0]}\")\n",
        "print(f\"Number of features: {_features}\")\n",
        "print(f\"Number of classes: {n_classes}\")"
      ],
      "metadata": {
        "colab": {
          "base_uri": "https://localhost:8080/"
        },
        "id": "Nhbqc2ga_pfF",
        "outputId": "dc4a5cca-ef82-45ca-c10f-555940cdb12b"
      },
      "execution_count": 23,
      "outputs": [
        {
          "output_type": "stream",
          "name": "stdout",
          "text": [
            "Number of training samples: 85400\n",
            "Number of testing samples: 21350\n",
            "Number of features: 78\n",
            "Number of classes: 15\n"
          ]
        }
      ]
    },
    {
      "cell_type": "code",
      "source": [],
      "metadata": {
        "id": "D2LLjlweFSZU"
      },
      "execution_count": null,
      "outputs": []
    },
    {
      "cell_type": "code",
      "source": [
        "from sklearn.svm import SVC\n",
        "from sklearn.metrics import classification_report, accuracy_score, matthews_corrcoef\n",
        "from xgboost import XGBClassifier\n",
        "from sklearn.ensemble import IsolationForest\n",
        "from sklearn.neighbors import LocalOutlierFactor\n",
        "\n",
        "# 2. الگوریتم XGBoost\n",
        "xgb_model = XGBClassifier(use_label_encoder=False, eval_metric='mlogloss', random_state=2)\n",
        "xgb_model.fit(X_train, Y_train)\n",
        "\n",
        "# پیش‌بینی و ارزیابی XGBoost\n",
        "y_pred_xgb = xgb_model.predict(X_test)\n",
        "print(\"XGBoost Results:\")\n",
        "print(classification_report(Y_test.argmax(axis=1), y_pred_xgb.argmax(axis=1)))\n",
        "print(f\"Accuracy (XGBoost): {accuracy_score(Y_test.argmax(axis=1), y_pred_xgb.argmax(axis=1)):.2f}\")\n",
        "print(f\"MCC (XGBoost): {matthews_corrcoef(Y_test.argmax(axis=1), y_pred_xgb.argmax(axis=1)):.2f}\")"
      ],
      "metadata": {
        "colab": {
          "base_uri": "https://localhost:8080/"
        },
        "id": "nfYNB-rPAO3f",
        "outputId": "3dfe507b-e630-48ed-c305-22128f4dad95"
      },
      "execution_count": 25,
      "outputs": [
        {
          "output_type": "stream",
          "name": "stderr",
          "text": [
            "/usr/local/lib/python3.10/dist-packages/xgboost/core.py:158: UserWarning: [14:43:11] WARNING: /workspace/src/learner.cc:740: \n",
            "Parameters: { \"use_label_encoder\" } are not used.\n",
            "\n",
            "  warnings.warn(smsg, UserWarning)\n"
          ]
        },
        {
          "output_type": "stream",
          "name": "stdout",
          "text": [
            "XGBoost Results:\n",
            "              precision    recall  f1-score   support\n",
            "\n",
            "           0       0.93      0.90      0.91      1329\n",
            "           1       1.00      1.00      1.00      1483\n",
            "           2       1.00      0.98      0.99      1221\n",
            "           3       1.00      1.00      1.00      1511\n",
            "           4       1.00      1.00      1.00      1453\n",
            "           5       1.00      1.00      1.00      1447\n",
            "           6       1.00      1.00      1.00      1474\n",
            "           7       1.00      1.00      1.00      1508\n",
            "           8       1.00      1.00      1.00      1483\n",
            "           9       0.80      0.50      0.62      1455\n",
            "          10       1.00      1.00      1.00      1287\n",
            "          11       0.65      0.88      0.74      1514\n",
            "          12       0.90      0.93      0.92      1289\n",
            "          13       0.98      1.00      0.99      1433\n",
            "          14       1.00      1.00      1.00      1463\n",
            "\n",
            "    accuracy                           0.95     21350\n",
            "   macro avg       0.95      0.95      0.94     21350\n",
            "weighted avg       0.95      0.95      0.94     21350\n",
            "\n",
            "Accuracy (XGBoost): 0.95\n",
            "MCC (XGBoost): 0.94\n"
          ]
        }
      ]
    },
    {
      "cell_type": "code",
      "source": [
        "# 3. الگوریتم SVM\n",
        "svm_model = SVC(kernel='rbf', random_state=2, probability=True)  # kernel='linear' یا 'poly' نیز قابل استفاده است\n",
        "svm_model.fit(X_train, Y_train.argmax(axis=1))  # برای SVM، برچسب‌ها به‌صورت تک‌ستونه نیاز است\n",
        "\n",
        "# پیش‌بینی و ارزیابی SVM\n",
        "y_pred_svm = svm_model.predict(X_test)\n",
        "print(\"SVM Results:\")\n",
        "print(classification_report(Y_test.argmax(axis=1), y_pred_svm))\n",
        "print(f\"Accuracy (SVM): {accuracy_score(Y_test.argmax(axis=1), y_pred_svm):.2f}\")\n",
        "print(f\"MCC (SVM): {matthews_corrcoef(Y_test.argmax(axis=1), y_pred_svm):.2f}\")"
      ],
      "metadata": {
        "colab": {
          "base_uri": "https://localhost:8080/"
        },
        "id": "lhrg7DlYJryf",
        "outputId": "5ed7e82c-38b0-47e1-f60d-c4cbdf93eaa3"
      },
      "execution_count": 30,
      "outputs": [
        {
          "output_type": "stream",
          "name": "stdout",
          "text": [
            "SVM Results:\n",
            "              precision    recall  f1-score   support\n",
            "\n",
            "           0       0.82      0.70      0.75      1329\n",
            "           1       1.00      1.00      1.00      1483\n",
            "           2       0.84      0.70      0.76      1221\n",
            "           3       0.65      0.95      0.77      1511\n",
            "           4       0.99      1.00      1.00      1453\n",
            "           5       1.00      0.98      0.99      1447\n",
            "           6       1.00      1.00      1.00      1474\n",
            "           7       1.00      1.00      1.00      1508\n",
            "           8       1.00      1.00      1.00      1483\n",
            "           9       0.59      0.99      0.74      1455\n",
            "          10       1.00      1.00      1.00      1287\n",
            "          11       0.98      0.34      0.50      1514\n",
            "          12       0.79      0.77      0.78      1289\n",
            "          13       0.86      0.71      0.78      1433\n",
            "          14       1.00      1.00      1.00      1463\n",
            "\n",
            "    accuracy                           0.88     21350\n",
            "   macro avg       0.90      0.88      0.87     21350\n",
            "weighted avg       0.90      0.88      0.87     21350\n",
            "\n",
            "Accuracy (SVM): 0.88\n",
            "MCC (SVM): 0.87\n"
          ]
        }
      ]
    },
    {
      "cell_type": "code",
      "source": [
        "from sklearn.neighbors import KNeighborsClassifier\n",
        "from sklearn.neighbors import KNeighborsClassifier\n",
        "# 3. الگوریتم KNN\n",
        "knn_model = KNeighborsClassifier(n_neighbors=5)  # تعداد همسایگان را می‌توان بسته به نیاز تنظیم کرد\n",
        "knn_model.fit(X_train, Y_train.argmax(axis=1))  # برچسب‌ها برای KNN باید به‌صورت تک‌ستونه باشند\n",
        "# پیش‌بینی و ارزیابی KNN\n",
        "y_pred_knn = knn_model.predict(X_test)\n",
        "print(\"KNN Results:\")\n",
        "print(classification_report(Y_test.argmax(axis=1), y_pred_knn))\n",
        "print(f\"Accuracy (KNN): {accuracy_score(Y_test.argmax(axis=1), y_pred_knn):.2f}\")\n",
        "print(f\"MCC (KNN): {matthews_corrcoef(Y_test.argmax(axis=1), y_pred_knn):.2f}\")"
      ],
      "metadata": {
        "colab": {
          "base_uri": "https://localhost:8080/"
        },
        "id": "dmuPWV5gJ2NO",
        "outputId": "fd27fdd4-d27e-4272-e94b-e27be9a06ad5"
      },
      "execution_count": 34,
      "outputs": [
        {
          "output_type": "stream",
          "name": "stdout",
          "text": [
            "KNN Results:\n",
            "              precision    recall  f1-score   support\n",
            "\n",
            "           0       0.92      0.86      0.89      1329\n",
            "           1       1.00      1.00      1.00      1483\n",
            "           2       0.99      0.98      0.99      1221\n",
            "           3       1.00      1.00      1.00      1511\n",
            "           4       1.00      1.00      1.00      1453\n",
            "           5       1.00      1.00      1.00      1447\n",
            "           6       1.00      1.00      1.00      1474\n",
            "           7       1.00      1.00      1.00      1508\n",
            "           8       1.00      1.00      1.00      1483\n",
            "           9       0.79      0.51      0.62      1455\n",
            "          10       1.00      1.00      1.00      1287\n",
            "          11       0.65      0.87      0.74      1514\n",
            "          12       0.87      0.92      0.89      1289\n",
            "          13       0.98      1.00      0.99      1433\n",
            "          14       1.00      1.00      1.00      1463\n",
            "\n",
            "    accuracy                           0.94     21350\n",
            "   macro avg       0.95      0.94      0.94     21350\n",
            "weighted avg       0.95      0.94      0.94     21350\n",
            "\n",
            "Accuracy (KNN): 0.94\n",
            "MCC (KNN): 0.94\n"
          ]
        }
      ]
    }
  ]
}